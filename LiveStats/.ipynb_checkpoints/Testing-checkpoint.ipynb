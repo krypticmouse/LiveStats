{
 "cells": [
  {
   "cell_type": "code",
   "execution_count": 1,
   "metadata": {},
   "outputs": [],
   "source": [
    "from livestats import run_law_of_large_number"
   ]
  },
  {
   "cell_type": "code",
   "execution_count": 3,
   "metadata": {},
   "outputs": [],
   "source": [
    "import numpy as np\n",
    "import warnings\n",
    "\n",
    "class BC:\n",
    "    def __init__(self):\n",
    "        self.normal_dist = np.random.standard_normal(10000)\n",
    "        self.avl_dist = {\n",
    "            'normal': self.normal_dist,\n",
    "            'uniform': np.random.uniform(-10, 10, 10000),\n",
    "            't': np.random.standard_t(1000, size = 10000),\n",
    "            'gamma': np.random.standard_gamma(0.5, size = 10000),\n",
    "            'exponential': np.random.standard_exponential(size = 10000)\n",
    "        }\n",
    "    \n",
    "    def generate_sample_distribution(self, data = 'normal'):\n",
    "        if str(type(data)) != \"<class 'str'>\":\n",
    "            self.data = np.array(data)\n",
    "            \n",
    "        else:\n",
    "            if data in self.avl_dist.keys():\n",
    "                self.data = self.avl_dist[data]\n",
    "            else:\n",
    "                raise Exception(f'Distribution available are {tuple(self.avl_dist.keys())}')\n",
    "        \n",
    "        if self.sample_size is None or self.sample_size > len(self.data):\n",
    "            warnings.warn('Sample Size exceeds Population Size changing it to 50%')\n",
    "            self.sample_size = int(0.5 * len(self.data))\n",
    "\n",
    "        sample = self.data.copy()\n",
    "        np.random.shuffle(sample)\n",
    "        return sample[:self.sample_size]\n",
    "\n",
    "    def run(self, data = 'normal', sample_size = None):\n",
    "        self.sample_size = sample_size\n",
    "        sample = self.generate_sample_distribution(data)\n",
    "        \n",
    "        sample_mean = np.mean(data)\n",
    "        sd_without_n_1 = np.sqrt(np.sum(sample - sample_mean) / len(sample))\n",
    "        \n",
    "        print(f'Sample Size: {len(sample)}')\n",
    "        print(f'Population Size: {len(self.data)}')\n",
    "        print(f'S.D. of Population: {np.std(self.data)}')\n",
    "        print(f'S.D. of Sample with Bessel\\s Correction : {np.std(self.data)}')\n",
    "        print(f'S.D. of Sample without Bessel\\s Correction : {sd_without_n_1}')"
   ]
  },
  {
   "cell_type": "code",
   "execution_count": 5,
   "metadata": {},
   "outputs": [
    {
     "name": "stdout",
     "output_type": "stream",
     "text": [
      "100000\n",
      "Sample Size: 100000\n",
      "Population Size: 100000\n",
      "S.D. of Population: 28867.513458037913\n",
      "S.D. of Sample with Bessel\\s Correction : 28867.513458037913\n",
      "S.D. of Sample without Bessel\\s Correction : 0.0\n"
     ]
    }
   ],
   "source": [
    "BC().run(list(range(100000)), 100000)"
   ]
  },
  {
   "cell_type": "code",
   "execution_count": 6,
   "metadata": {},
   "outputs": [],
   "source": [
    "import numpy as np"
   ]
  },
  {
   "cell_type": "code",
   "execution_count": 8,
   "metadata": {},
   "outputs": [
    {
     "data": {
      "text/plain": [
       "array([14, 42,  4, 43, 30, 23, 43, 19, 23, 42,  5, 17, 40, 20, 39, 20, 47,\n",
       "       18, 21, 42, 48,  3,  0, 11,  1, 13,  6, 44,  9, 38, 41, 23,  3, 11,\n",
       "       43, 21, 39, 48,  5, 21])"
      ]
     },
     "execution_count": 8,
     "metadata": {},
     "output_type": "execute_result"
    }
   ],
   "source": [
    "b = np.random.choice(50,40)"
   ]
  },
  {
   "cell_type": "code",
   "execution_count": 21,
   "metadata": {},
   "outputs": [
    {
     "data": {
      "text/plain": [
       "array([ 0,  1,  2,  3,  4,  5,  6,  7,  8,  9, 10, 11, 12, 13, 14, 15, 16,\n",
       "       17, 18, 19])"
      ]
     },
     "execution_count": 21,
     "metadata": {},
     "output_type": "execute_result"
    }
   ],
   "source": [
    "a = np.array(range(20))\n",
    "a"
   ]
  },
  {
   "cell_type": "code",
   "execution_count": 22,
   "metadata": {},
   "outputs": [
    {
     "data": {
      "text/plain": [
       "array([ 5, 10,  6, 19, 15, 16,  0,  4,  3,  9, 14,  1,  7, 17, 18, 13, 12,\n",
       "        8,  2, 11])"
      ]
     },
     "execution_count": 22,
     "metadata": {},
     "output_type": "execute_result"
    }
   ],
   "source": [
    "b = a.copy()\n",
    "np.random.shuffle(b)\n",
    "b"
   ]
  },
  {
   "cell_type": "code",
   "execution_count": 23,
   "metadata": {},
   "outputs": [
    {
     "data": {
      "text/plain": [
       "array([ 0,  1,  2,  3,  4,  5,  6,  7,  8,  9, 10, 11, 12, 13, 14, 15, 16,\n",
       "       17, 18, 19])"
      ]
     },
     "execution_count": 23,
     "metadata": {},
     "output_type": "execute_result"
    }
   ],
   "source": [
    "a"
   ]
  },
  {
   "cell_type": "code",
   "execution_count": null,
   "metadata": {},
   "outputs": [],
   "source": []
  }
 ],
 "metadata": {
  "kernelspec": {
   "display_name": "Python 3",
   "language": "python",
   "name": "python3"
  },
  "language_info": {
   "codemirror_mode": {
    "name": "ipython",
    "version": 3
   },
   "file_extension": ".py",
   "mimetype": "text/x-python",
   "name": "python",
   "nbconvert_exporter": "python",
   "pygments_lexer": "ipython3",
   "version": "3.6.10"
  }
 },
 "nbformat": 4,
 "nbformat_minor": 4
}
